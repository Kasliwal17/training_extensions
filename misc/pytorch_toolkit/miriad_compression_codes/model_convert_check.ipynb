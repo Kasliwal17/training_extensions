{
 "cells": [
  {
   "cell_type": "code",
   "execution_count": 3,
   "metadata": {},
   "outputs": [],
   "source": [
    "import torch\n",
    "import onnx\n",
    "import os\n",
    "from src.utils.model import AutoEncoder"
   ]
  },
  {
   "cell_type": "code",
   "execution_count": 6,
   "metadata": {},
   "outputs": [],
   "source": [
    "res_path = \"model_cbis.onnx\"\n",
    "dummy_input = torch.randn(1, 1, 256, 256)\n",
    "model = AutoEncoder(n_updownconv = 3, width = 64)\n",
    "loaded_model_file = torch.load('/home/rakshith/miriad-compression/cbis_a1_b1.model')\n",
    "model.load_state_dict(loaded_model_file['model_state'])\n",
    "torch.onnx.export(model, dummy_input, res_path,\n",
    "                opset_version = 11, do_constant_folding=True,\n",
    "                input_names = ['input'], output_names=['output'],\n",
    "                dynamic_axes={'input' : {0 : 'batch_size'}, 'output' : {0 : 'batch_size'}},\n",
    "                verbose = False)"
   ]
  },
  {
   "cell_type": "code",
   "execution_count": 7,
   "metadata": {},
   "outputs": [
    {
     "data": {
      "text/plain": [
       "CompletedProcess(args='mo --framework onnx --input_model model_cbis.onnx --input_shape \"[1, 1, 256, 256]\" --output_dir /home/rakshith/miriad_compression/', returncode=0)"
      ]
     },
     "execution_count": 7,
     "metadata": {},
     "output_type": "execute_result"
    }
   ],
   "source": [
    "import subprocess\n",
    "\n",
    "input_model = \"model_cbis.onnx\"\n",
    "input_shape = \"[1, 1, 256, 256]\"\n",
    "output_dir = \"/home/rakshith/miriad_compression/\"\n",
    "export_command = f\"\"\"mo \\\n",
    "--framework onnx \\\n",
    "--input_model {input_model} \\\n",
    "--input_shape \"{input_shape}\" \\\n",
    "--output_dir {output_dir}\"\"\"\n",
    "\n",
    "subprocess.run(export_command, shell = True, check = True)"
   ]
  },
  {
   "cell_type": "code",
   "execution_count": null,
   "metadata": {},
   "outputs": [],
   "source": []
  }
 ],
 "metadata": {
  "interpreter": {
   "hash": "02d518ac1fc09ef5dc4eabe4d9fe87a26d09bc9551d9c7d27686a6ac8a51ace1"
  },
  "kernelspec": {
   "display_name": "Python 3.7.6 ('rak-env': conda)",
   "language": "python",
   "name": "python3"
  },
  "language_info": {
   "codemirror_mode": {
    "name": "ipython",
    "version": 3
   },
   "file_extension": ".py",
   "mimetype": "text/x-python",
   "name": "python",
   "nbconvert_exporter": "python",
   "pygments_lexer": "ipython3",
   "version": "3.7.6"
  },
  "orig_nbformat": 4
 },
 "nbformat": 4,
 "nbformat_minor": 2
}
